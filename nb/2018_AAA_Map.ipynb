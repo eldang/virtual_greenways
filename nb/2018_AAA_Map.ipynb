{
 "cells": [
  {
   "cell_type": "code",
   "execution_count": 1,
   "metadata": {},
   "outputs": [],
   "source": [
    "coords = (47.6131746,-122.4878834) # Seattle"
   ]
  },
  {
   "cell_type": "code",
   "execution_count": 2,
   "metadata": {
    "scrolled": true
   },
   "outputs": [
    {
     "data": {
      "application/vnd.jupyter.widget-view+json": {
       "model_id": "7a28eeba1da544aaacf272394d4e6096",
       "version_major": 2,
       "version_minor": 0
      },
      "text/plain": [
       "Map(basemap={'url': 'http://stamen-tiles-a.a.ssl.fastly.net/watercolor/{z}/{x}/{y}.png', 'attribution': 'Map t…"
      ]
     },
     "metadata": {},
     "output_type": "display_data"
    }
   ],
   "source": [
    "from draw_map import *\n",
    "\n",
    "m = get_map(coords)\n",
    "m"
   ]
  },
  {
   "cell_type": "code",
   "execution_count": 3,
   "metadata": {
    "scrolled": true
   },
   "outputs": [
    {
     "name": "stderr",
     "output_type": "stream",
     "text": [
      "/opt/conda/lib/python3.6/site-packages/pandas/core/indexing.py:1472: FutureWarning: \n",
      "Passing list-likes to .loc or [] with any missing label will raise\n",
      "KeyError in the future, you can use .reindex() as an alternative.\n",
      "\n",
      "See the documentation here:\n",
      "https://pandas.pydata.org/pandas-docs/stable/indexing.html#deprecate-loc-reindex-listlike\n",
      "  return self._getitem_tuple(key)\n"
     ]
    }
   ],
   "source": [
    "from city_data import read_shape\n",
    "\n",
    "from bikemap2 import (\n",
    "    street_network_database_to_folium,\n",
    "    bicycle_facilities_to_folium,\n",
    "    classify_segments\n",
    ")\n",
    "\n",
    "street_network_shp_path = \"/snd/WGS84/Street_Network_Database.shp\"\n",
    "\n",
    "segment_df = read_shape(street_network_shp_path)\n",
    "selected_df = segment_df[segment_df.SEGMENT_TY==8]\n",
    "folium_df = street_network_database_to_folium(selected_df)\n",
    "#classify_segments(folium_df)\n",
    "\n",
    "bike_facilities_shp_path = \"Existing_Bike_Facilities/Existing_Bike_Facilities.shp\"\n",
    "\n",
    "bike_df = read_shape(bike_facilities_shp_path)\n",
    "bike_folium_df = bicycle_facilities_to_folium(bike_df)\n",
    "classify_segments(bike_folium_df)"
   ]
  },
  {
   "cell_type": "code",
   "execution_count": 4,
   "metadata": {},
   "outputs": [],
   "source": [
    "draw_lines(m, folium_df)"
   ]
  },
  {
   "cell_type": "code",
   "execution_count": 5,
   "metadata": {},
   "outputs": [],
   "source": [
    "draw_lines(m, bike_folium_df)"
   ]
  }
 ],
 "metadata": {
  "kernelspec": {
   "display_name": "Python 3",
   "language": "python",
   "name": "python3"
  },
  "language_info": {
   "codemirror_mode": {
    "name": "ipython",
    "version": 3
   },
   "file_extension": ".py",
   "mimetype": "text/x-python",
   "name": "python",
   "nbconvert_exporter": "python",
   "pygments_lexer": "ipython3",
   "version": "3.6.3"
  }
 },
 "nbformat": 4,
 "nbformat_minor": 2
}
