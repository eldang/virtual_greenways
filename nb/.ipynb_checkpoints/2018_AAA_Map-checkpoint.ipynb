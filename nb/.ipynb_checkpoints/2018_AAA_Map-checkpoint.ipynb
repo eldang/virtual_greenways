{
 "cells": [
  {
   "cell_type": "code",
   "execution_count": 1,
   "metadata": {},
   "outputs": [],
   "source": [
    "coords = (47.6131746,-122.4878834) # Seattle"
   ]
  },
  {
   "cell_type": "code",
   "execution_count": 2,
   "metadata": {
    "scrolled": false
   },
   "outputs": [
    {
     "data": {
      "application/vnd.jupyter.widget-view+json": {
       "model_id": "ebf83e7cea5b42a7bbaca92fb6a55ef2",
       "version_major": 2,
       "version_minor": 0
      },
      "text/plain": [
       "Map(center=[47.6131746, -122.4878834], controls=(ZoomControl(options=['position', 'zoom_in_text', 'zoom_in_tit…"
      ]
     },
     "metadata": {},
     "output_type": "display_data"
    }
   ],
   "source": [
    "from draw_map import *\n",
    "\n",
    "m = get_map(coords)\n",
    "m"
   ]
  },
  {
   "cell_type": "code",
   "execution_count": 3,
   "metadata": {
    "scrolled": true
   },
   "outputs": [
    {
     "name": "stdout",
     "output_type": "stream",
     "text": [
      "                  name                  description  \\\n",
      "0           18TH AVE S        Neighborhood Greenway   \n",
      "1      BEACON WR AVE S                      Sharrow   \n",
      "2     PINEHURST WAY NE  In Street, Major Separation   \n",
      "3            N 34TH ST  In Street, Minor Separation   \n",
      "4           39TH AVE S        Neighborhood Greenway   \n",
      "...                ...                          ...   \n",
      "3367     SW AVALON WAY  In Street, Major Separation   \n",
      "3368           4TH AVE  In Street, Major Separation   \n",
      "3369     SW AVALON WAY  In Street, Major Separation   \n",
      "3370    WATERFRONT TRL              Multi-use Trail   \n",
      "3371  WATERFRONT TRAIL              Multi-use Trail   \n",
      "\n",
      "                                               polyline district difficulty  \\\n",
      "0     [(47.58296797919059, -122.30947839269986), (47...  Current    #00FF00   \n",
      "1     [(47.54042771259291, -122.29842578087764), (47...  Current    #808080   \n",
      "2     [(47.71027850505957, -122.3176727775349), (47....  Current    #00FF00   \n",
      "3     [(47.64803866948714, -122.33515508928974), (47...  Current    #FF0000   \n",
      "4     [(47.549726607251856, -122.28341047546692), (4...  Current    #00FF00   \n",
      "...                                                 ...      ...        ...   \n",
      "3367  [(47.56924146690827, -122.37072773658228), (47...  Current    #00FF00   \n",
      "3368  [(47.6060878585823, -122.33290910501647), (47....  Current    #00FF00   \n",
      "3369  [(47.567608918902536, -122.37076473719341), (4...  Current    #00FF00   \n",
      "3370  [(47.60172360174669, -122.33635245409013), (47...  Current    #00FF00   \n",
      "3371  [(47.60172331015519, -122.33632733602349), (47...  Current    #00FF00   \n",
      "\n",
      "     difficulty_code  \n",
      "0                  e  \n",
      "1                  u  \n",
      "2                  e  \n",
      "3                  d  \n",
      "4                  e  \n",
      "...              ...  \n",
      "3367               e  \n",
      "3368               e  \n",
      "3369               e  \n",
      "3370               e  \n",
      "3371               e  \n",
      "\n",
      "[3372 rows x 6 columns]\n"
     ]
    }
   ],
   "source": [
    "from city_data import read_shape\n",
    "\n",
    "from bikemap2 import (\n",
    "    street_network_database_to_folium,\n",
    "    bicycle_facilities_to_folium,\n",
    "    classify_segments\n",
    ")\n",
    "\n",
    "bike_facilities_shp_path = \"../data/Existing_Bike_Facilities.shp\"\n",
    "\n",
    "bike_df = read_shape(bike_facilities_shp_path)\n",
    "bike_folium_df = bicycle_facilities_to_folium(bike_df)\n",
    "classify_segments(bike_folium_df)\n",
    "print(bike_folium_df)"
   ]
  },
  {
   "cell_type": "code",
   "execution_count": null,
   "metadata": {},
   "outputs": [],
   "source": [
    "draw_lines(m, bike_folium_df)"
   ]
  },
  {
   "cell_type": "code",
   "execution_count": null,
   "metadata": {},
   "outputs": [],
   "source": []
  }
 ],
 "metadata": {
  "kernelspec": {
   "display_name": "Python 3",
   "language": "python",
   "name": "python3"
  },
  "language_info": {
   "codemirror_mode": {
    "name": "ipython",
    "version": 3
   },
   "file_extension": ".py",
   "mimetype": "text/x-python",
   "name": "python",
   "nbconvert_exporter": "python",
   "pygments_lexer": "ipython3",
   "version": "3.9.2"
  }
 },
 "nbformat": 4,
 "nbformat_minor": 2
}
